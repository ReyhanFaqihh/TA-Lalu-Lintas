{
 "cells": [
  {
   "cell_type": "code",
   "execution_count": 1,
   "metadata": {},
   "outputs": [],
   "source": [
    "import os\n",
    "import shutil\n",
    "import numpy as np\n",
    "from sklearn.model_selection import train_test_split, KFold"
   ]
  },
  {
   "cell_type": "code",
   "execution_count": 12,
   "metadata": {},
   "outputs": [],
   "source": [
    "dataset_path = \"D:\\\\Tim Lalu Lintas\\\\TA-Lalu-Lintas\\\\dataset_yolo2\" # Folder utama dataset (berisi images/ dan labels/)\n",
    "output_path = \"D:\\\\Tim Lalu Lintas\\\\TA-Lalu-Lintas\\\\split_dataset1\"           # Folder output hasil split\n",
    "test_ratio = 0.2                                                            # Rasio test (20%)\n",
    "k_folds = 4                                                                 # Jumlah fold untuk cross-validation\n",
    "seed = 40                                                                   # Seed untuk reproduktibilitas"
   ]
  },
  {
   "cell_type": "code",
   "execution_count": 3,
   "metadata": {},
   "outputs": [],
   "source": [
    "def create_dir(path):\n",
    "    \"\"\"Membuat direktori jika belum ada\"\"\"\n",
    "    if not os.path.exists(path):\n",
    "        os.makedirs(path)"
   ]
  },
  {
   "cell_type": "code",
   "execution_count": 4,
   "metadata": {},
   "outputs": [],
   "source": [
    "def copy_files(file_list, src_dir, dest_dir):\n",
    "    \"\"\"Menyalin file dari sumber ke tujuan\"\"\"\n",
    "    for file in file_list:\n",
    "        shutil.copy(\n",
    "            os.path.join(src_dir, file),\n",
    "            os.path.join(dest_dir, file)\n",
    "        )"
   ]
  },
  {
   "cell_type": "code",
   "execution_count": 13,
   "metadata": {},
   "outputs": [],
   "source": [
    "# List semua file image (format: .jpg/.png)\n",
    "image_files = [f for f in os.listdir(f\"{dataset_path}\\images\") if f.endswith(('.jpg', '.png'))]\n",
    "image_files = np.array(image_files)\n",
    "\n",
    "# Split train-test\n",
    "train_files, test_files = train_test_split(\n",
    "    image_files, \n",
    "    test_size=test_ratio, \n",
    "    random_state=seed\n",
    ")\n",
    "\n",
    "# Salin file ke direktori train/test\n",
    "dirs_to_create = [\n",
    "    f\"{output_path}/train/images\",\n",
    "    f\"{output_path}/train/labels\",\n",
    "    f\"{output_path}/test/images\",\n",
    "    f\"{output_path}/test/labels\"\n",
    "]\n",
    "\n",
    "for dir in dirs_to_create:\n",
    "    create_dir(dir)\n",
    "\n",
    "# Salin file train\n",
    "copy_files(train_files, f\"{dataset_path}/images\", f\"{output_path}/train/images\")\n",
    "copy_files([f.replace('.jpg', '.txt').replace('.png', '.txt') for f in train_files], \n",
    "           f\"{dataset_path}/labels\", f\"{output_path}/train/labels\")\n",
    "\n",
    "# Salin file test\n",
    "copy_files(test_files, f\"{dataset_path}/images\", f\"{output_path}/test/images\")\n",
    "copy_files([f.replace('.jpg', '.txt').replace('.png', '.txt') for f in test_files], \n",
    "           f\"{dataset_path}/labels\", f\"{output_path}/test/labels\")"
   ]
  },
  {
   "cell_type": "code",
   "execution_count": 14,
   "metadata": {},
   "outputs": [
    {
     "name": "stdout",
     "output_type": "stream",
     "text": [
      "Split dataset selesai!\n"
     ]
    }
   ],
   "source": [
    "kf = KFold(n_splits=k_folds, shuffle=True, random_state=seed)\n",
    "\n",
    "# Split data training menjadi K fold\n",
    "for fold, (train_idx, val_idx) in enumerate(kf.split(train_files)):\n",
    "    fold_dir = f\"{output_path}/cross_val/fold_{fold+1}\"\n",
    "    \n",
    "    # Buat direktori fold\n",
    "    create_dir(f\"{fold_dir}/train/images\")\n",
    "    create_dir(f\"{fold_dir}/train/labels\")\n",
    "    create_dir(f\"{fold_dir}/val/images\")\n",
    "    create_dir(f\"{fold_dir}/val/labels\")\n",
    "    \n",
    "    # Ambil file untuk train/val\n",
    "    train_fold_files = train_files[train_idx]\n",
    "    val_fold_files = train_files[val_idx]\n",
    "    \n",
    "    # Salin file ke fold\n",
    "    copy_files(train_fold_files, f\"{dataset_path}/images\", f\"{fold_dir}/train/images\")\n",
    "    copy_files([f.replace('.jpg', '.txt').replace('.png', '.txt') for f in train_fold_files], \n",
    "            f\"{dataset_path}/labels\", f\"{fold_dir}/train/labels\")\n",
    "    \n",
    "    copy_files(val_fold_files, f\"{dataset_path}/images\", f\"{fold_dir}/val/images\")\n",
    "    copy_files([f.replace('.jpg', '.txt').replace('.png', '.txt') for f in val_fold_files], \n",
    "            f\"{dataset_path}/labels\", f\"{fold_dir}/val/labels\")\n",
    "\n",
    "print(\"Split dataset selesai!\")"
   ]
  },
  {
   "cell_type": "code",
   "execution_count": null,
   "metadata": {},
   "outputs": [
    {
     "name": "stdout",
     "output_type": "stream",
     "text": [
      "Jumlah file dalam folder 'D:\\Tim Lalu Lintas\\TA-Lalu-Lintas\\split_dataset1\\cross_val\\fold_4\\train\\images': 1133\n"
     ]
    },
    {
     "ename": "",
     "evalue": "",
     "output_type": "error",
     "traceback": [
      "\u001b[1;31mThe Kernel crashed while executing code in the current cell or a previous cell. \n",
      "\u001b[1;31mPlease review the code in the cell(s) to identify a possible cause of the failure. \n",
      "\u001b[1;31mClick <a href='https://aka.ms/vscodeJupyterKernelCrash'>here</a> for more info. \n",
      "\u001b[1;31mView Jupyter <a href='command:jupyter.viewOutput'>log</a> for further details."
     ]
    }
   ],
   "source": [
    "import glob\n",
    "\n",
    "# Masukkan path folder yang ingin dihitung\n",
    "folder_path = \"D:\\\\Tim Lalu Lintas\\\\TA-Lalu-Lintas\\\\split_dataset1\\\\cross_val\\\\fold_4\\\\train\\\\images\"\n",
    "\n",
    "# Menghitung jumlah file dalam folder\n",
    "file_count = len(glob.glob(f\"{folder_path}/*\"))  # Menghitung semua file\n",
    "\n",
    "print(f\"Jumlah file dalam folder '{folder_path}': {file_count}\")"
   ]
  },
  {
   "cell_type": "code",
   "execution_count": null,
   "metadata": {},
   "outputs": [],
   "source": [
    "import yaml\n",
    "\n",
    "base_yaml = {\n",
    "    'path': 'D:/Tim Lalu Lintas/TA-Lalu-Lintas/split_dataset',\n",
    "    'test': 'test/images',\n",
    "    'nc': 2,\n",
    "    'names': ['Pengendara', 'Helm']\n",
    "}\n",
    "\n",
    "for fold in range(1,5):\n",
    "    fold_yaml = base_yaml.copy()\n",
    "    fold_yaml['train'] = f'cross_val/fold_{fold}/train/images'\n",
    "    fold_yaml['val'] = f'cross_val/fold_{fold}/val/images'\n",
    "\n",
    "    with open(f'data_fold{fold}.yaml', 'w') as f:\n",
    "        yaml.dump(fold_yaml,f)"
   ]
  }
 ],
 "metadata": {
  "kernelspec": {
   "display_name": "base",
   "language": "python",
   "name": "python3"
  },
  "language_info": {
   "codemirror_mode": {
    "name": "ipython",
    "version": 3
   },
   "file_extension": ".py",
   "mimetype": "text/x-python",
   "name": "python",
   "nbconvert_exporter": "python",
   "pygments_lexer": "ipython3",
   "version": "3.12.7"
  }
 },
 "nbformat": 4,
 "nbformat_minor": 2
}
