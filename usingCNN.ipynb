{
 "cells": [
  {
   "cell_type": "code",
   "execution_count": 1,
   "metadata": {},
   "outputs": [],
   "source": [
    "import torch\n",
    "import torchvision.transforms as transforms\n",
    "from PIL import Image\n",
    "import torchvision.models as models\n",
    "import torch.nn as nn\n"
   ]
  },
  {
   "cell_type": "code",
   "execution_count": 2,
   "metadata": {},
   "outputs": [
    {
     "name": "stderr",
     "output_type": "stream",
     "text": [
      "d:\\ComputerVision\\belajarConda\\Lib\\site-packages\\torchvision\\models\\_utils.py:208: UserWarning: The parameter 'pretrained' is deprecated since 0.13 and may be removed in the future, please use 'weights' instead.\n",
      "  warnings.warn(\n",
      "d:\\ComputerVision\\belajarConda\\Lib\\site-packages\\torchvision\\models\\_utils.py:223: UserWarning: Arguments other than a weight enum or `None` for 'weights' are deprecated since 0.13 and may be removed in the future. The current behavior is equivalent to passing `weights=None`.\n",
      "  warnings.warn(msg)\n"
     ]
    },
    {
     "name": "stdout",
     "output_type": "stream",
     "text": [
      "Model berhasil dimuat!\n"
     ]
    }
   ],
   "source": [
    "import torch\n",
    "import torch.nn as nn\n",
    "import torchvision.models as models\n",
    "\n",
    "CNN_MODEL_PATH = \"best_model_efficientnet.pth\"\n",
    "# Load model dengan pretrained weights\n",
    "device = torch.device(\"cuda\" if torch.cuda.is_available() else \"cpu\")\n",
    "def load_cnn_model():\n",
    "    model = models.efficientnet_b0(pretrained=False)\n",
    "    model.classifier[1] = nn.Linear(model.classifier[1].in_features, 2)\n",
    "    model.load_state_dict(torch.load(CNN_MODEL_PATH, map_location=device))\n",
    "    return model.to(device).eval()\n",
    "\n",
    "cnn_model = load_cnn_model()\n",
    "print(\"Model berhasil dimuat!\")"
   ]
  },
  {
   "cell_type": "code",
   "execution_count": 3,
   "metadata": {},
   "outputs": [],
   "source": [
    "# Transformasi gambar agar sesuai dengan model (misalnya, ukuran 224x224 untuk MobileNetV2)\n",
    "transform = transforms.Compose([\n",
    "    transforms.Resize((224, 224)),\n",
    "    transforms.ToTensor(),\n",
    "    transforms.Normalize([0.485, 0.456, 0.406], [0.229, 0.224, 0.225])  # Normalisasi sesuai ImageNet\n",
    "])\n",
    "\n",
    "def load_image(image_path):\n",
    "    \"\"\"Load dan preproses gambar\"\"\"\n",
    "    image = Image.open(image_path).convert(\"RGB\")  # Buka gambar\n",
    "    image = transform(image)  # Terapkan transformasi\n",
    "    image = image.unsqueeze(0)  # Tambahkan batch dimension\n",
    "    return image.to(device)\n"
   ]
  },
  {
   "cell_type": "code",
   "execution_count": 11,
   "metadata": {},
   "outputs": [
    {
     "name": "stdout",
     "output_type": "stream",
     "text": [
      "Prediksi: Tidak-Memakai-Helm\n"
     ]
    }
   ],
   "source": [
    "def predict(image_path):\n",
    "    \"\"\"Fungsi untuk melakukan prediksi pada gambar baru\"\"\"\n",
    "    image = load_image(image_path)\n",
    "    \n",
    "    with torch.no_grad():\n",
    "        output = cnn_model(image)\n",
    "        _, predicted = torch.max(output, 1)\n",
    "    \n",
    "    class_names = [\"Memakai-Helm\", \"Tidak-Memakai-Helm\"]  # Sesuai urutan pelatihan\n",
    "    print(f\"Prediksi: {class_names[predicted.item()]}\")\n",
    "    \n",
    "    return class_names[predicted.item()]\n",
    "\n",
    "# Contoh penggunaan\n",
    "image_path = \"D:\\\\TA_Lalu_Lintas\\\\TA-Lalu-Lintas\\\\pelanggar\\\\violation_20250323_203332168590.jpg\"  # Ganti dengan path gambar yang ingin diuji\n",
    "prediction = predict(image_path)"
   ]
  },
  {
   "cell_type": "code",
   "execution_count": null,
   "metadata": {},
   "outputs": [],
   "source": []
  }
 ],
 "metadata": {
  "kernelspec": {
   "display_name": "base",
   "language": "python",
   "name": "python3"
  },
  "language_info": {
   "codemirror_mode": {
    "name": "ipython",
    "version": 3
   },
   "file_extension": ".py",
   "mimetype": "text/x-python",
   "name": "python",
   "nbconvert_exporter": "python",
   "pygments_lexer": "ipython3",
   "version": "3.12.7"
  }
 },
 "nbformat": 4,
 "nbformat_minor": 2
}
