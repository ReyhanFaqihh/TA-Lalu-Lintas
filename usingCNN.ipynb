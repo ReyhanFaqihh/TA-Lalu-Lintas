{
 "cells": [
  {
   "cell_type": "code",
   "execution_count": 6,
   "metadata": {},
   "outputs": [],
   "source": [
    "import torch\n",
    "import torchvision.transforms as transforms\n",
    "from PIL import Image\n",
    "import torchvision.models as models\n",
    "import torch.nn as nn\n"
   ]
  },
  {
   "cell_type": "code",
   "execution_count": 13,
   "metadata": {},
   "outputs": [
    {
     "name": "stdout",
     "output_type": "stream",
     "text": [
      "Sequential(\n",
      "  (0): Dropout(p=0.2, inplace=False)\n",
      "  (1): Linear(in_features=1280, out_features=1000, bias=True)\n",
      ")\n",
      "Model berhasil dimuat!\n"
     ]
    }
   ],
   "source": [
    "import torch\n",
    "import torch.nn as nn\n",
    "import torchvision.models as models\n",
    "\n",
    "# Load model dengan pretrained weights\n",
    "device = torch.device(\"cuda\" if torch.cuda.is_available() else \"cpu\")\n",
    "model = models.mobilenet_v2(weights=models.MobileNet_V2_Weights.IMAGENET1K_V1)\n",
    "\n",
    "# Periksa struktur classifier\n",
    "print(model.classifier)\n",
    "\n",
    "# Modifikasi classifier sesuai dengan model yang sudah dilatih\n",
    "model.classifier = nn.Sequential(\n",
    "    nn.Dropout(0.3),\n",
    "    nn.Linear(model.last_channel, 2)  # Sesuai jumlah kelas (worn / not worn)\n",
    ")\n",
    "\n",
    "checkpoint = torch.load(\"best_model.h5\", map_location=\"cpu\")\n",
    "\n",
    "# Rename key dari \"classifier.1.1\" ke \"classifier.1\"\n",
    "new_state_dict = {}\n",
    "for key in checkpoint:\n",
    "    new_key = key.replace(\"classifier.1.1\", \"classifier.1\")  # Perbaiki key yang salah\n",
    "    new_state_dict[new_key] = checkpoint[key]\n",
    "\n",
    "# Load ulang dengan model yang sudah diperbaiki\n",
    "model.load_state_dict(new_state_dict)\n",
    "model = model.to(device)\n",
    "model.eval()\n",
    "\n",
    "print(\"Model berhasil dimuat!\")"
   ]
  },
  {
   "cell_type": "code",
   "execution_count": 14,
   "metadata": {},
   "outputs": [],
   "source": [
    "# Transformasi gambar agar sesuai dengan model (misalnya, ukuran 224x224 untuk MobileNetV2)\n",
    "transform = transforms.Compose([\n",
    "    transforms.Resize((224, 224)),\n",
    "    transforms.ToTensor(),\n",
    "    transforms.Normalize([0.485, 0.456, 0.406], [0.229, 0.224, 0.225])  # Normalisasi sesuai ImageNet\n",
    "])\n",
    "\n",
    "def load_image(image_path):\n",
    "    \"\"\"Load dan preproses gambar\"\"\"\n",
    "    image = Image.open(image_path).convert(\"RGB\")  # Buka gambar\n",
    "    image = transform(image)  # Terapkan transformasi\n",
    "    image = image.unsqueeze(0)  # Tambahkan batch dimension\n",
    "    return image.to(device)\n"
   ]
  },
  {
   "cell_type": "code",
   "execution_count": 16,
   "metadata": {},
   "outputs": [
    {
     "name": "stdout",
     "output_type": "stream",
     "text": [
      "Prediksi: Tidak-Memakai-Helm\n"
     ]
    }
   ],
   "source": [
    "def predict(image_path):\n",
    "    \"\"\"Fungsi untuk melakukan prediksi pada gambar baru\"\"\"\n",
    "    image = load_image(image_path)\n",
    "    \n",
    "    with torch.no_grad():\n",
    "        output = model(image)\n",
    "        _, predicted = torch.max(output, 1)\n",
    "    \n",
    "    class_names = [\"Memakai-Helm\", \"Tidak-Memakai-Helm\"]  # Sesuai urutan pelatihan\n",
    "    print(f\"Prediksi: {class_names[predicted.item()]}\")\n",
    "    \n",
    "    return class_names[predicted.item()]\n",
    "\n",
    "# Contoh penggunaan\n",
    "image_path = \"C:\\\\Users\\\\User\\\\Downloads\\\\helmet-story_647_010216125130_062417031850.jpg\"  # Ganti dengan path gambar yang ingin diuji\"\n",
    "prediction = predict(image_path)"
   ]
  }
 ],
 "metadata": {
  "kernelspec": {
   "display_name": "Python 3",
   "language": "python",
   "name": "python3"
  },
  "language_info": {
   "codemirror_mode": {
    "name": "ipython",
    "version": 3
   },
   "file_extension": ".py",
   "mimetype": "text/x-python",
   "name": "python",
   "nbconvert_exporter": "python",
   "pygments_lexer": "ipython3",
   "version": "3.11.9"
  }
 },
 "nbformat": 4,
 "nbformat_minor": 2
}
