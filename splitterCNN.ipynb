{
 "cells": [
  {
   "cell_type": "code",
   "execution_count": 1,
   "metadata": {},
   "outputs": [
    {
     "name": "stdout",
     "output_type": "stream",
     "text": [
      "✅ Dataset berhasil dipisah menjadi Train dan Test\n"
     ]
    }
   ],
   "source": [
    "import os\n",
    "import shutil\n",
    "import random\n",
    "\n",
    "# Path dataset awal\n",
    "dataset_path = \"D:\\\\TA_Lalu_Lintas\\\\TA-Lalu-Lintas\\\\dataset_cnn\"\n",
    "train_path = \"dataset_cnn_split/train\"\n",
    "test_path = \"dataset_cnn_split/test\"\n",
    "\n",
    "# Buat folder train dan test\n",
    "for category in [\"Memakai-Helm\", \"Tidak-Memakai-Helm\"]:\n",
    "    os.makedirs(os.path.join(train_path, category), exist_ok=True)\n",
    "    os.makedirs(os.path.join(test_path, category), exist_ok=True)\n",
    "\n",
    "# Tentukan split data\n",
    "split_ratio = 0.8  # 80% training, 20% testing\n",
    "random.seed(42)  # Untuk reproduktibilitas\n",
    "\n",
    "# Pindahkan data ke train dan test\n",
    "for category in [\"Memakai-Helm\", \"Tidak-Memakai-Helm\"]:\n",
    "    files = os.listdir(os.path.join(dataset_path, category))\n",
    "    random.shuffle(files)\n",
    "\n",
    "    split_point = int(len(files) * split_ratio)\n",
    "    train_files = files[:split_point]\n",
    "    test_files = files[split_point:]\n",
    "\n",
    "    for file in train_files:\n",
    "        shutil.move(os.path.join(dataset_path, category, file),\n",
    "                    os.path.join(train_path, category, file))\n",
    "\n",
    "    for file in test_files:\n",
    "        shutil.move(os.path.join(dataset_path, category, file),\n",
    "                    os.path.join(test_path, category, file))\n",
    "\n",
    "print(\"✅ Dataset berhasil dipisah menjadi Train dan Test\")\n"
   ]
  },
  {
   "cell_type": "code",
   "execution_count": 8,
   "metadata": {},
   "outputs": [
    {
     "name": "stdout",
     "output_type": "stream",
     "text": [
      "Jumlah file dalam folder 'D:\\TA_Lalu Lintas\\TA-Lalu-Lintas\\dataset_cnn_preprocessed\\test\\Memakai-Helm': 140\n",
      "Jumlah file dalam folder 'D:\\TA_Lalu Lintas\\TA-Lalu-Lintas\\dataset_cnn_preprocessed\\test\\Tidak-Memakai-Helm': 140\n"
     ]
    }
   ],
   "source": [
    "import glob\n",
    "\n",
    "# Masukkan path folder yang ingin dihitung\n",
    "folder_path1 = \"D:\\\\TA_Lalu Lintas\\\\TA-Lalu-Lintas\\\\dataset_cnn_preprocessed\\\\test\\\\Memakai-Helm\"\n",
    "folder_path2 = \"D:\\\\TA_Lalu Lintas\\\\TA-Lalu-Lintas\\\\dataset_cnn_preprocessed\\\\test\\\\Tidak-Memakai-Helm\"\n",
    "\n",
    "# Menghitung jumlah file dalam folder\n",
    "file_count1 = len(glob.glob(f\"{folder_path1}/*\"))  # Menghitung semua file\n",
    "file_count2 = len(glob.glob(f\"{folder_path2}/*\"))  # Menghitung semua file\n",
    "\n",
    "print(f\"Jumlah file dalam folder '{folder_path1}': {file_count1}\")\n",
    "print(f\"Jumlah file dalam folder '{folder_path2}': {file_count2}\")"
   ]
  },
  {
   "cell_type": "code",
   "execution_count": null,
   "metadata": {},
   "outputs": [],
   "source": []
  }
 ],
 "metadata": {
  "kernelspec": {
   "display_name": "Python 3",
   "language": "python",
   "name": "python3"
  },
  "language_info": {
   "codemirror_mode": {
    "name": "ipython",
    "version": 3
   },
   "file_extension": ".py",
   "mimetype": "text/x-python",
   "name": "python",
   "nbconvert_exporter": "python",
   "pygments_lexer": "ipython3",
   "version": "3.11.9"
  }
 },
 "nbformat": 4,
 "nbformat_minor": 2
}
